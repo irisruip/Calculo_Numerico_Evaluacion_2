{
 "cells": [
  {
   "cell_type": "markdown",
   "metadata": {},
   "source": [
    "<h4>Integrantes</h4>\n",
    "Ruiz Irisbel - 30.864.236\n",
    "\n",
    "Sosa Andres - 30.096.794"
   ]
  },
  {
   "cell_type": "markdown",
   "metadata": {},
   "source": [
    "#### Recoleccion de datos (API)"
   ]
  },
  {
   "cell_type": "code",
   "execution_count": 81,
   "metadata": {},
   "outputs": [
    {
     "name": "stdout",
     "output_type": "stream",
     "text": [
      "Temperatura media de la semana 2023-06-01 hasta el 2023-06-07 de la ciudad de Cusco (obtenidos datos correctamente)\n",
      "Any[11, 10, 10, 10, 9, 10, 9]\n"
     ]
    }
   ],
   "source": [
    "using JSON\n",
    "using HTTP\n",
    "\n",
    "localizacion = \"Cusco\"\n",
    "inicio_sem = \"2023-06-01\"\n",
    "final_sem = \"2023-06-07\" \n",
    "\n",
    "url = \"http://api.worldweatheronline.com/premium/v1/past-weather.ashx?q=$(localizacion)&tp=24&date=$(inicio_sem)&enddate=$(final_sem)&format=json&key=790e4819ffc841c5b1810355241106\"\n",
    "\n",
    "respuesta = HTTP.request(\"GET\", url)\n",
    "\n",
    "if respuesta.status == 200\n",
    "    data = JSON.parse(String(respuesta.body))\n",
    "    println(\"Temperatura media de la semana $inicio_sem hasta el $final_sem de la ciudad de $localizacion (obtenidos datos correctamente)\")\n",
    "else\n",
    "    println(\"Error al obtener datos de la semana del $inicio_sem al $final_sem: $(respuesta.status)\")\n",
    "end\n",
    "\n",
    "temperatura_max = []\n",
    "temperatura_min = []\n",
    "temperatura = []\n",
    "\n",
    "for day in data[\"data\"][\"weather\"]\n",
    "    temperaturas_max = day[\"maxtempC\"]\n",
    "    temperaturas_min = day[\"mintempC\"]\n",
    "\n",
    "    push!(temperatura_max, temperaturas_max)\n",
    "    push!(temperatura_min, temperaturas_min)\n",
    "end\n",
    "\n",
    "for i in 1:length(temperatura_max)\n",
    "    a = parse(Int, temperatura_max[i])\n",
    "    b = parse(Int, temperatura_min[i]) \n",
    "    c = a + b\n",
    "    push!(temperatura, div(c, 2))\n",
    "end   \n",
    "\n",
    "println(temperatura)"
   ]
  },
  {
   "cell_type": "markdown",
   "metadata": {},
   "source": [
    "### Análisis y Predicción de Datos Meteorológicos con Métodos de Interpolación"
   ]
  },
  {
   "cell_type": "markdown",
   "metadata": {},
   "source": [
    "<h4>Parte 1: Interpolación de Taylor</h4>"
   ]
  },
  {
   "cell_type": "code",
   "execution_count": null,
   "metadata": {},
   "outputs": [],
   "source": []
  },
  {
   "cell_type": "markdown",
   "metadata": {},
   "source": [
    "<h4>Parte 2: Interpolación de Lagrange\n",
    "</h4>"
   ]
  },
  {
   "cell_type": "code",
   "execution_count": null,
   "metadata": {},
   "outputs": [],
   "source": []
  },
  {
   "cell_type": "markdown",
   "metadata": {},
   "source": [
    "<h4>Parte 3: Interpolación de Hermite\n",
    "</h4>"
   ]
  },
  {
   "cell_type": "code",
   "execution_count": null,
   "metadata": {},
   "outputs": [],
   "source": []
  },
  {
   "cell_type": "markdown",
   "metadata": {},
   "source": [
    "<h4>Parte 4: Interpolación Polinómica a Trozos\n",
    "</h4>"
   ]
  },
  {
   "cell_type": "code",
   "execution_count": null,
   "metadata": {},
   "outputs": [],
   "source": []
  }
 ],
 "metadata": {
  "kernelspec": {
   "display_name": "Julia 1.10.3",
   "language": "julia",
   "name": "julia-1.10"
  },
  "language_info": {
   "file_extension": ".jl",
   "mimetype": "application/julia",
   "name": "julia",
   "version": "1.10.3"
  }
 },
 "nbformat": 4,
 "nbformat_minor": 2
}
